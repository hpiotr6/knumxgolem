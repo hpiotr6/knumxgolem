{
 "cells": [
  {
   "cell_type": "code",
   "execution_count": 2,
   "metadata": {},
   "outputs": [],
   "source": [
    "import torch\n",
    "import pandas as pd\n",
    "\n",
    "from torch.utils.data import Dataset, DataLoader"
   ]
  },
  {
   "cell_type": "code",
   "execution_count": 3,
   "metadata": {},
   "outputs": [],
   "source": [
    "ref1_merged = pd.read_csv('ref1_merged.csv')"
   ]
  },
  {
   "cell_type": "code",
   "execution_count": 20,
   "metadata": {},
   "outputs": [
    {
     "data": {
      "text/plain": [
       "'nomagic_mulled_wine_3.png'"
      ]
     },
     "execution_count": 20,
     "metadata": {},
     "output_type": "execute_result"
    }
   ],
   "source": [
    "ref1_merged.iloc[0]['file_name']"
   ]
  },
  {
   "cell_type": "code",
   "execution_count": 13,
   "metadata": {},
   "outputs": [],
   "source": [
    "# ref1_merged.iloc[idx, 0]"
   ]
  },
  {
   "cell_type": "code",
   "execution_count": 4,
   "metadata": {},
   "outputs": [
    {
     "data": {
      "text/html": [
       "<div>\n",
       "<style scoped>\n",
       "    .dataframe tbody tr th:only-of-type {\n",
       "        vertical-align: middle;\n",
       "    }\n",
       "\n",
       "    .dataframe tbody tr th {\n",
       "        vertical-align: top;\n",
       "    }\n",
       "\n",
       "    .dataframe thead th {\n",
       "        text-align: right;\n",
       "    }\n",
       "</style>\n",
       "<table border=\"1\" class=\"dataframe\">\n",
       "  <thead>\n",
       "    <tr style=\"text-align: right;\">\n",
       "      <th></th>\n",
       "      <th>image_id</th>\n",
       "      <th>bbox</th>\n",
       "      <th>category_id</th>\n",
       "      <th>width</th>\n",
       "      <th>height</th>\n",
       "      <th>file_name</th>\n",
       "      <th>category_name</th>\n",
       "    </tr>\n",
       "  </thead>\n",
       "  <tbody>\n",
       "    <tr>\n",
       "      <th>0</th>\n",
       "      <td>4</td>\n",
       "      <td>[665, 448, 206, 174]</td>\n",
       "      <td>8</td>\n",
       "      <td>1280</td>\n",
       "      <td>720</td>\n",
       "      <td>nomagic_mulled_wine_3.png</td>\n",
       "      <td>nomagic_mulled_wine</td>\n",
       "    </tr>\n",
       "    <tr>\n",
       "      <th>1</th>\n",
       "      <td>4</td>\n",
       "      <td>[475, 186, 236, 186]</td>\n",
       "      <td>8</td>\n",
       "      <td>1280</td>\n",
       "      <td>720</td>\n",
       "      <td>nomagic_mulled_wine_3.png</td>\n",
       "      <td>nomagic_mulled_wine</td>\n",
       "    </tr>\n",
       "    <tr>\n",
       "      <th>2</th>\n",
       "      <td>4</td>\n",
       "      <td>[962, 76, 229, 217]</td>\n",
       "      <td>8</td>\n",
       "      <td>1280</td>\n",
       "      <td>720</td>\n",
       "      <td>nomagic_mulled_wine_3.png</td>\n",
       "      <td>nomagic_mulled_wine</td>\n",
       "    </tr>\n",
       "    <tr>\n",
       "      <th>3</th>\n",
       "      <td>4</td>\n",
       "      <td>[778, 250, 163, 135]</td>\n",
       "      <td>8</td>\n",
       "      <td>1280</td>\n",
       "      <td>720</td>\n",
       "      <td>nomagic_mulled_wine_3.png</td>\n",
       "      <td>nomagic_mulled_wine</td>\n",
       "    </tr>\n",
       "    <tr>\n",
       "      <th>4</th>\n",
       "      <td>4</td>\n",
       "      <td>[184, 377, 244, 194]</td>\n",
       "      <td>8</td>\n",
       "      <td>1280</td>\n",
       "      <td>720</td>\n",
       "      <td>nomagic_mulled_wine_3.png</td>\n",
       "      <td>nomagic_mulled_wine</td>\n",
       "    </tr>\n",
       "    <tr>\n",
       "      <th>...</th>\n",
       "      <td>...</td>\n",
       "      <td>...</td>\n",
       "      <td>...</td>\n",
       "      <td>...</td>\n",
       "      <td>...</td>\n",
       "      <td>...</td>\n",
       "      <td>...</td>\n",
       "    </tr>\n",
       "    <tr>\n",
       "      <th>139</th>\n",
       "      <td>67</td>\n",
       "      <td>[388, 443, 238, 186]</td>\n",
       "      <td>3</td>\n",
       "      <td>1280</td>\n",
       "      <td>720</td>\n",
       "      <td>nomagic_digitec_cables_1.png</td>\n",
       "      <td>nomagic_digitec_cables</td>\n",
       "    </tr>\n",
       "    <tr>\n",
       "      <th>140</th>\n",
       "      <td>67</td>\n",
       "      <td>[791, 129, 277, 139]</td>\n",
       "      <td>3</td>\n",
       "      <td>1280</td>\n",
       "      <td>720</td>\n",
       "      <td>nomagic_digitec_cables_1.png</td>\n",
       "      <td>nomagic_digitec_cables</td>\n",
       "    </tr>\n",
       "    <tr>\n",
       "      <th>141</th>\n",
       "      <td>67</td>\n",
       "      <td>[345, 139, 271, 109]</td>\n",
       "      <td>3</td>\n",
       "      <td>1280</td>\n",
       "      <td>720</td>\n",
       "      <td>nomagic_digitec_cables_1.png</td>\n",
       "      <td>nomagic_digitec_cables</td>\n",
       "    </tr>\n",
       "    <tr>\n",
       "      <th>142</th>\n",
       "      <td>67</td>\n",
       "      <td>[895, 365, 177, 223]</td>\n",
       "      <td>3</td>\n",
       "      <td>1280</td>\n",
       "      <td>720</td>\n",
       "      <td>nomagic_digitec_cables_1.png</td>\n",
       "      <td>nomagic_digitec_cables</td>\n",
       "    </tr>\n",
       "    <tr>\n",
       "      <th>143</th>\n",
       "      <td>67</td>\n",
       "      <td>[155, 146, 163, 209]</td>\n",
       "      <td>3</td>\n",
       "      <td>1280</td>\n",
       "      <td>720</td>\n",
       "      <td>nomagic_digitec_cables_1.png</td>\n",
       "      <td>nomagic_digitec_cables</td>\n",
       "    </tr>\n",
       "  </tbody>\n",
       "</table>\n",
       "<p>144 rows × 7 columns</p>\n",
       "</div>"
      ],
      "text/plain": [
       "     image_id                  bbox  category_id  width  height  \\\n",
       "0           4  [665, 448, 206, 174]            8   1280     720   \n",
       "1           4  [475, 186, 236, 186]            8   1280     720   \n",
       "2           4   [962, 76, 229, 217]            8   1280     720   \n",
       "3           4  [778, 250, 163, 135]            8   1280     720   \n",
       "4           4  [184, 377, 244, 194]            8   1280     720   \n",
       "..        ...                   ...          ...    ...     ...   \n",
       "139        67  [388, 443, 238, 186]            3   1280     720   \n",
       "140        67  [791, 129, 277, 139]            3   1280     720   \n",
       "141        67  [345, 139, 271, 109]            3   1280     720   \n",
       "142        67  [895, 365, 177, 223]            3   1280     720   \n",
       "143        67  [155, 146, 163, 209]            3   1280     720   \n",
       "\n",
       "                        file_name           category_name  \n",
       "0       nomagic_mulled_wine_3.png     nomagic_mulled_wine  \n",
       "1       nomagic_mulled_wine_3.png     nomagic_mulled_wine  \n",
       "2       nomagic_mulled_wine_3.png     nomagic_mulled_wine  \n",
       "3       nomagic_mulled_wine_3.png     nomagic_mulled_wine  \n",
       "4       nomagic_mulled_wine_3.png     nomagic_mulled_wine  \n",
       "..                            ...                     ...  \n",
       "139  nomagic_digitec_cables_1.png  nomagic_digitec_cables  \n",
       "140  nomagic_digitec_cables_1.png  nomagic_digitec_cables  \n",
       "141  nomagic_digitec_cables_1.png  nomagic_digitec_cables  \n",
       "142  nomagic_digitec_cables_1.png  nomagic_digitec_cables  \n",
       "143  nomagic_digitec_cables_1.png  nomagic_digitec_cables  \n",
       "\n",
       "[144 rows x 7 columns]"
      ]
     },
     "execution_count": 4,
     "metadata": {},
     "output_type": "execute_result"
    }
   ],
   "source": [
    "ref1_merged"
   ]
  },
  {
   "cell_type": "code",
   "execution_count": null,
   "metadata": {},
   "outputs": [],
   "source": []
  }
 ],
 "metadata": {
  "interpreter": {
   "hash": "5136ec13cd6b64995a2a21358b8a9a6668681cde4f8c5d9a98b2ec743aac6179"
  },
  "kernelspec": {
   "display_name": "Python 3.9.13 ('.venv': poetry)",
   "language": "python",
   "name": "python3"
  },
  "language_info": {
   "codemirror_mode": {
    "name": "ipython",
    "version": 3
   },
   "file_extension": ".py",
   "mimetype": "text/x-python",
   "name": "python",
   "nbconvert_exporter": "python",
   "pygments_lexer": "ipython3",
   "version": "3.9.13"
  },
  "orig_nbformat": 4
 },
 "nbformat": 4,
 "nbformat_minor": 2
}
