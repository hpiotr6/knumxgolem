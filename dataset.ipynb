{
 "cells": [
  {
   "cell_type": "code",
   "execution_count": 155,
   "metadata": {},
   "outputs": [],
   "source": [
    "import json\n",
    "import pandas as pd"
   ]
  },
  {
   "cell_type": "code",
   "execution_count": 156,
   "metadata": {},
   "outputs": [
    {
     "data": {
      "text/plain": [
       "dict_keys(['images', 'annotations', 'categories'])"
      ]
     },
     "execution_count": 156,
     "metadata": {},
     "output_type": "execute_result"
    }
   ],
   "source": [
    "PATH = 'public_dataset/reference_images_part1.json'\n",
    "# PATH = 'public_dataset/images_part1_valid.json'\n",
    "\n",
    "with open(PATH) as json_data:\n",
    "    data = json.load(json_data)\n",
    "data.keys()"
   ]
  },
  {
   "cell_type": "code",
   "execution_count": 157,
   "metadata": {},
   "outputs": [],
   "source": [
    "images_df = pd.DataFrame(data['images'])\n",
    "annotations_df = pd.DataFrame(data['annotations'])\n",
    "categories_df = pd.DataFrame(data['categories'])"
   ]
  },
  {
   "cell_type": "code",
   "execution_count": null,
   "metadata": {},
   "outputs": [],
   "source": []
  },
  {
   "cell_type": "code",
   "execution_count": 158,
   "metadata": {},
   "outputs": [],
   "source": [
    "images_annotation = pd.merge(annotations_df, images_df,  how='inner', left_on='image_id', right_on = 'id')\n",
    "assert images_annotation[images_annotation['image_id'] != images_annotation['id_y']].sum()['id_x'] == 0"
   ]
  },
  {
   "cell_type": "code",
   "execution_count": 159,
   "metadata": {},
   "outputs": [],
   "source": [
    "images_annotation_categories = pd.merge(images_annotation, categories_df,  how='inner', left_on='category_id', right_on = 'id')\n",
    "images_annotation_categories = images_annotation_categories.drop(labels=['id_x','id_y','id'], axis=1)\n",
    "images_annotation_categories = images_annotation_categories.reset_index(drop=True)"
   ]
  },
  {
   "cell_type": "code",
   "execution_count": 160,
   "metadata": {},
   "outputs": [],
   "source": [
    "images_annotation_categories = images_annotation_categories.rename(columns={'name':'category_name'})"
   ]
  },
  {
   "cell_type": "code",
   "execution_count": 165,
   "metadata": {},
   "outputs": [],
   "source": [
    "images_annotation_categories.to_csv(sep=',', path_or_buf='ref1_merged.csv', index=None)"
   ]
  },
  {
   "cell_type": "code",
   "execution_count": null,
   "metadata": {},
   "outputs": [],
   "source": []
  }
 ],
 "metadata": {
  "interpreter": {
   "hash": "5136ec13cd6b64995a2a21358b8a9a6668681cde4f8c5d9a98b2ec743aac6179"
  },
  "kernelspec": {
   "display_name": "Python 3.9.13 ('.venv': poetry)",
   "language": "python",
   "name": "python3"
  },
  "language_info": {
   "codemirror_mode": {
    "name": "ipython",
    "version": 3
   },
   "file_extension": ".py",
   "mimetype": "text/x-python",
   "name": "python",
   "nbconvert_exporter": "python",
   "pygments_lexer": "ipython3",
   "version": "3.9.13"
  },
  "orig_nbformat": 4
 },
 "nbformat": 4,
 "nbformat_minor": 2
}
